{
 "cells": [
  {
   "cell_type": "code",
   "execution_count": 1,
   "metadata": {
    "collapsed": false
   },
   "outputs": [],
   "source": [
    "import pandas as pd\n",
    "dfs = pd.read_excel(\"./Gold_Standard_Wp2/manual/Final_matching_gold_standard.xlsx\")\n"
   ]
  },
  {
   "cell_type": "code",
   "execution_count": 4,
   "metadata": {
    "collapsed": true
   },
   "outputs": [],
   "source": [
    "from bibtexparser.bwriter import BibTexWriter\n",
    "from bibtexparser.bibdatabase import BibDatabase"
   ]
  },
  {
   "cell_type": "code",
   "execution_count": 7,
   "metadata": {
    "collapsed": false
   },
   "outputs": [],
   "source": [
    "dfs=dfs.reset_index(drop=True)"
   ]
  },
  {
   "cell_type": "code",
   "execution_count": 10,
   "metadata": {
    "collapsed": false
   },
   "outputs": [],
   "source": [
    "ls_rec=[]\n",
    "len_dfs=len(dfs)\n",
    "db = BibDatabase()\n",
    "import hashlib\n",
    "import time\n",
    "\n",
    "ls_rec=[]\n",
    "for idx in range(0,len_dfs):\n",
    "    temp={}\n",
    "    temp['ID']=\"ID\"+str(idx)\n",
    "    try:\n",
    "        temp['title']=dfs.ix[idx]['title'].encode('utf-8')\n",
    "    except:\n",
    "        pass\n",
    "    temp['year']=str(dfs.ix[idx]['year'])\n",
    "    try:\n",
    "        temp['author']=dfs.ix[idx]['Authors'].encode('utf-8')\n",
    "    except:\n",
    "        pass\n",
    "    temp['ENTRYTYPE']='article'\n",
    "    ls_rec.append(temp)\n",
    "db.entries =ls_rec\n",
    "    "
   ]
  },
  {
   "cell_type": "code",
   "execution_count": 11,
   "metadata": {
    "collapsed": false
   },
   "outputs": [],
   "source": [
    "writer = BibTexWriter()\n",
    "with open('./Gold_Standard_Wp2/manual/Manual_bibtex.bib', 'w') as bibfile:\n",
    "    bibfile.write(writer.write(db))"
   ]
  }
 ],
 "metadata": {
  "anaconda-cloud": {},
  "kernelspec": {
   "display_name": "Python [conda root]",
   "language": "python",
   "name": "conda-root-py"
  },
  "language_info": {
   "codemirror_mode": {
    "name": "ipython",
    "version": 2
   },
   "file_extension": ".py",
   "mimetype": "text/x-python",
   "name": "python",
   "nbconvert_exporter": "python",
   "pygments_lexer": "ipython2",
   "version": "2.7.13"
  }
 },
 "nbformat": 4,
 "nbformat_minor": 1
}
