{
 "cells": [
  {
   "cell_type": "code",
   "execution_count": 1,
   "metadata": {
    "collapsed": false
   },
   "outputs": [],
   "source": [
    "import pandas as pd\n",
    "df = pd.read_csv(\"./09.csv\");"
   ]
  },
  {
   "cell_type": "code",
   "execution_count": 2,
   "metadata": {
    "collapsed": true
   },
   "outputs": [],
   "source": [
    "xl = pd.ExcelFile(\"./manual/Final_matching_gold_standard.xlsx\")"
   ]
  },
  {
   "cell_type": "code",
   "execution_count": 3,
   "metadata": {
    "collapsed": false
   },
   "outputs": [],
   "source": [
    "df12 = xl.parse(\"Sheet1\")\n",
    "df12=df12.reset_index(drop=True)"
   ]
  },
  {
   "cell_type": "code",
   "execution_count": 4,
   "metadata": {
    "collapsed": false
   },
   "outputs": [],
   "source": [
    "ls_notmatch=[]\n",
    "ls_match=[]\n",
    "for item in df:\n",
    "    if len(str(df[item][0]))!=3:\n",
    "        eir=eval(df[item][0])\n",
    "        if eir['match']=='false':\n",
    "            ls_notmatch.append(df[item][0])\n",
    "        else:\n",
    "            ls_match.append(df[item][0]) \n"
   ]
  },
  {
   "cell_type": "code",
   "execution_count": 5,
   "metadata": {
    "collapsed": false
   },
   "outputs": [],
   "source": [
    "Notmatch_checked_list=[]\n",
    "for item in ls_notmatch:\n",
    "    temp=[]\n",
    "    idxitem=eval(item)['Id_ref']\n",
    "    temp.append(idxitem)\n",
    "    indexlist=df12[df12['manual id'] == idxitem].index.tolist()\n",
    "    indexmanual=indexlist[0]\n",
    "    temp.append(indexmanual)\n",
    "    checked=df12.ix[indexmanual]['Match id']\n",
    "    temp.append(checked)\n",
    "    Notmatch_checked_list.append(temp)\n",
    "    "
   ]
  },
  {
   "cell_type": "code",
   "execution_count": 6,
   "metadata": {
    "collapsed": false
   },
   "outputs": [],
   "source": [
    "TN=[]\n",
    "FN=[]\n",
    "for item in Notmatch_checked_list:\n",
    "    if str(item[2])=='Null' or str(item[2])=='null':\n",
    "        TN.append(item)\n",
    "    else:\n",
    "        FN.append(item)"
   ]
  },
  {
   "cell_type": "code",
   "execution_count": 7,
   "metadata": {
    "collapsed": false
   },
   "outputs": [
    {
     "data": {
      "text/plain": [
       "147"
      ]
     },
     "execution_count": 7,
     "metadata": {},
     "output_type": "execute_result"
    }
   ],
   "source": [
    "len(Notmatch_checked_list)"
   ]
  },
  {
   "cell_type": "code",
   "execution_count": 8,
   "metadata": {
    "collapsed": false
   },
   "outputs": [
    {
     "data": {
      "text/plain": [
       "31"
      ]
     },
     "execution_count": 8,
     "metadata": {},
     "output_type": "execute_result"
    }
   ],
   "source": [
    "len(FN)"
   ]
  },
  {
   "cell_type": "code",
   "execution_count": 9,
   "metadata": {
    "collapsed": false
   },
   "outputs": [
    {
     "data": {
      "text/plain": [
       "116"
      ]
     },
     "execution_count": 9,
     "metadata": {},
     "output_type": "execute_result"
    }
   ],
   "source": [
    "len(TN)"
   ]
  },
  {
   "cell_type": "code",
   "execution_count": 10,
   "metadata": {
    "collapsed": false
   },
   "outputs": [],
   "source": [
    "TP=[]\n",
    "FP=[]\n",
    "for item in ls_match:\n",
    "    temp=[]\n",
    "    idxitem=eval(item)['Id_ref']\n",
    "    temp.append(idxitem)\n",
    "    indexlist=df12[df12['manual id'] == idxitem].index.tolist()\n",
    "    indexmanual=indexlist[0]\n",
    "    temp.append(indexmanual)\n",
    "    checked=df12.ix[indexmanual]['Match id']\n",
    "    temp.append(eval(item)['jaccard']['id'])\n",
    "    temp.append(df12.ix[indexmanual]['Match id'])\n",
    "    if eval(item)['jaccard']['id'] in df12.ix[indexmanual]['Match id']:\n",
    "        TP.append(temp)\n",
    "    else:\n",
    "        FP.append(temp)\n"
   ]
  },
  {
   "cell_type": "code",
   "execution_count": 11,
   "metadata": {
    "collapsed": false
   },
   "outputs": [
    {
     "data": {
      "text/plain": [
       "53"
      ]
     },
     "execution_count": 11,
     "metadata": {},
     "output_type": "execute_result"
    }
   ],
   "source": [
    "len(TP)"
   ]
  },
  {
   "cell_type": "code",
   "execution_count": 12,
   "metadata": {
    "collapsed": false
   },
   "outputs": [
    {
     "data": {
      "text/plain": [
       "10"
      ]
     },
     "execution_count": 12,
     "metadata": {},
     "output_type": "execute_result"
    }
   ],
   "source": [
    "len(FP)"
   ]
  },
  {
   "cell_type": "code",
   "execution_count": 19,
   "metadata": {
    "collapsed": true
   },
   "outputs": [],
   "source": [
    "dfFN = pd.DataFrame(FN)\n",
    "dfTN = pd.DataFrame(TN)\n",
    "dfTP = pd.DataFrame(TP)\n",
    "dfFP = pd.DataFrame(FP)"
   ]
  },
  {
   "cell_type": "code",
   "execution_count": 20,
   "metadata": {
    "collapsed": true
   },
   "outputs": [],
   "source": [
    "writer = pd.ExcelWriter('simple.xlsx', engine='xlsxwriter')"
   ]
  },
  {
   "cell_type": "code",
   "execution_count": 21,
   "metadata": {
    "collapsed": false
   },
   "outputs": [],
   "source": [
    "dfFN.to_excel(writer, sheet_name='FN')\n",
    "dfTN.to_excel(writer, sheet_name='TN')\n",
    "dfTP.to_excel(writer, sheet_name='TP')\n",
    "dfFP.to_excel(writer, sheet_name='FP')"
   ]
  },
  {
   "cell_type": "code",
   "execution_count": 22,
   "metadata": {
    "collapsed": true
   },
   "outputs": [],
   "source": [
    "writer.save()"
   ]
  }
 ],
 "metadata": {
  "anaconda-cloud": {},
  "kernelspec": {
   "display_name": "Python [conda root]",
   "language": "python",
   "name": "conda-root-py"
  },
  "language_info": {
   "codemirror_mode": {
    "name": "ipython",
    "version": 2
   },
   "file_extension": ".py",
   "mimetype": "text/x-python",
   "name": "python",
   "nbconvert_exporter": "python",
   "pygments_lexer": "ipython2",
   "version": "2.7.13"
  }
 },
 "nbformat": 4,
 "nbformat_minor": 2
}
