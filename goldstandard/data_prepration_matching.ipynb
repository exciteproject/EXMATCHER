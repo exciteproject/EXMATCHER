{
 "cells": [
  {
   "cell_type": "code",
   "execution_count": 1,
   "metadata": {
    "collapsed": true
   },
   "outputs": [],
   "source": [
    "import pandas as pd"
   ]
  },
  {
   "cell_type": "code",
   "execution_count": 90,
   "metadata": {
    "collapsed": false
   },
   "outputs": [],
   "source": [
    "My_id_references=pd.read_csv(\"C:/Users/ghavimbm/Desktop/12wq/listofreftex_prosses_ben.csv\", header=None)"
   ]
  },
  {
   "cell_type": "code",
   "execution_count": 91,
   "metadata": {
    "collapsed": false
   },
   "outputs": [
    {
     "data": {
      "text/html": [
       "<div>\n",
       "<table border=\"1\" class=\"dataframe\">\n",
       "  <thead>\n",
       "    <tr style=\"text-align: right;\">\n",
       "      <th></th>\n",
       "      <th>0</th>\n",
       "      <th>1</th>\n",
       "    </tr>\n",
       "  </thead>\n",
       "  <tbody>\n",
       "    <tr>\n",
       "      <th>0</th>\n",
       "      <td>f1_831418</td>\n",
       "      <td>Bosch, G.: Qualifizieren statt entlassen - Bes...</td>\n",
       "    </tr>\n",
       "  </tbody>\n",
       "</table>\n",
       "</div>"
      ],
      "text/plain": [
       "           0                                                  1\n",
       "0  f1_831418  Bosch, G.: Qualifizieren statt entlassen - Bes..."
      ]
     },
     "execution_count": 91,
     "metadata": {},
     "output_type": "execute_result"
    }
   ],
   "source": [
    "My_id_references.head(1)"
   ]
  },
  {
   "cell_type": "code",
   "execution_count": 97,
   "metadata": {
    "collapsed": false
   },
   "outputs": [
    {
     "data": {
      "text/plain": [
       "817"
      ]
     },
     "execution_count": 97,
     "metadata": {},
     "output_type": "execute_result"
    }
   ],
   "source": [
    "len(set(My_id_references[0]))"
   ]
  },
  {
   "cell_type": "code",
   "execution_count": 101,
   "metadata": {
    "collapsed": false
   },
   "outputs": [],
   "source": [
    "My_id_references['freq'] = My_id_references.groupby(0)[0].transform('count')"
   ]
  },
  {
   "cell_type": "code",
   "execution_count": 98,
   "metadata": {
    "collapsed": false
   },
   "outputs": [
    {
     "data": {
      "text/plain": [
       "832"
      ]
     },
     "execution_count": 98,
     "metadata": {},
     "output_type": "execute_result"
    }
   ],
   "source": [
    "len(My_id_references)"
   ]
  },
  {
   "cell_type": "code",
   "execution_count": 5,
   "metadata": {
    "collapsed": true
   },
   "outputs": [],
   "source": [
    "Process_data=pd.read_csv(\"listofreftex_prosses-segmented-20180702.csv\")"
   ]
  },
  {
   "cell_type": "code",
   "execution_count": 6,
   "metadata": {
    "collapsed": false
   },
   "outputs": [
    {
     "data": {
      "text/html": [
       "<div>\n",
       "<table border=\"1\" class=\"dataframe\">\n",
       "  <thead>\n",
       "    <tr style=\"text-align: right;\">\n",
       "      <th></th>\n",
       "      <th>ref_id</th>\n",
       "      <th>ref_text</th>\n",
       "      <th>ref_seg</th>\n",
       "      <th>ref_seg_dic</th>\n",
       "    </tr>\n",
       "  </thead>\n",
       "  <tbody>\n",
       "    <tr>\n",
       "      <th>0</th>\n",
       "      <td>f1_831418</td>\n",
       "      <td>Bosch, G.: Qualifizieren statt entlassen - Bes...</td>\n",
       "      <td>&lt;author&gt;&lt;surname prob=\"0.9656\"&gt;Bosch&lt;/surname&gt;...</td>\n",
       "      <td>{\"author\": [[{\"score\": \"0.9656\", \"surname\": \"B...</td>\n",
       "    </tr>\n",
       "  </tbody>\n",
       "</table>\n",
       "</div>"
      ],
      "text/plain": [
       "      ref_id                                           ref_text  \\\n",
       "0  f1_831418  Bosch, G.: Qualifizieren statt entlassen - Bes...   \n",
       "\n",
       "                                             ref_seg  \\\n",
       "0  <author><surname prob=\"0.9656\">Bosch</surname>...   \n",
       "\n",
       "                                         ref_seg_dic  \n",
       "0  {\"author\": [[{\"score\": \"0.9656\", \"surname\": \"B...  "
      ]
     },
     "execution_count": 6,
     "metadata": {},
     "output_type": "execute_result"
    }
   ],
   "source": [
    "Process_data.head(1)"
   ]
  },
  {
   "cell_type": "code",
   "execution_count": 7,
   "metadata": {
    "collapsed": false
   },
   "outputs": [
    {
     "data": {
      "text/plain": [
       "832"
      ]
     },
     "execution_count": 7,
     "metadata": {},
     "output_type": "execute_result"
    }
   ],
   "source": [
    "len(Process_data)"
   ]
  },
  {
   "cell_type": "markdown",
   "metadata": {},
   "source": [
    "# =========================================="
   ]
  },
  {
   "cell_type": "code",
   "execution_count": 8,
   "metadata": {
    "collapsed": false
   },
   "outputs": [],
   "source": [
    "df=pd.read_csv(\"sowiIdDuplicatesEdit.csv\",sep=\";\")"
   ]
  },
  {
   "cell_type": "code",
   "execution_count": 9,
   "metadata": {
    "collapsed": false
   },
   "outputs": [],
   "source": [
    "df[\"new_id\"]=df[\"ref_id\"].apply(lambda x:\"f1_\"+str(x))"
   ]
  },
  {
   "cell_type": "code",
   "execution_count": 10,
   "metadata": {
    "collapsed": false
   },
   "outputs": [],
   "source": [
    "df=df[['new_id','ref_id', 'sowiport_id', 'ssoar_id', 'ref_text',\n",
    "       'sowi_IdDuplicates']]"
   ]
  },
  {
   "cell_type": "code",
   "execution_count": 11,
   "metadata": {
    "collapsed": false
   },
   "outputs": [],
   "source": [
    "df[\"ns\"]=df[df[\"sowiport_id\"]!=\"not_match\"][\"sowiport_id\"].apply(lambda x:[x])"
   ]
  },
  {
   "cell_type": "code",
   "execution_count": 12,
   "metadata": {
    "collapsed": false
   },
   "outputs": [],
   "source": [
    "df[\"sowiport_id\"]=df[\"ns\"]"
   ]
  },
  {
   "cell_type": "code",
   "execution_count": 13,
   "metadata": {
    "collapsed": false
   },
   "outputs": [],
   "source": [
    "df=df[['new_id','ref_id', 'sowiport_id', 'ssoar_id', 'ref_text',\n",
    "       'sowi_IdDuplicates']]"
   ]
  },
  {
   "cell_type": "code",
   "execution_count": 14,
   "metadata": {
    "collapsed": true
   },
   "outputs": [],
   "source": [
    "import numpy as np"
   ]
  },
  {
   "cell_type": "code",
   "execution_count": 15,
   "metadata": {
    "collapsed": true
   },
   "outputs": [],
   "source": [
    "def null_or_listdublicat_eval(x):\n",
    "    if \"null\"!=x:\n",
    "        return x.replace(\"[\",\"\").replace(\"]\",\"\").split(\",\")\n",
    "    else:\n",
    "        return np.nan"
   ]
  },
  {
   "cell_type": "code",
   "execution_count": 16,
   "metadata": {
    "collapsed": false
   },
   "outputs": [],
   "source": [
    "df[\"sowi_IdDuplicates\"]=df[\"sowi_IdDuplicates\"].apply(null_or_listdublicat_eval)"
   ]
  },
  {
   "cell_type": "code",
   "execution_count": 17,
   "metadata": {
    "collapsed": false
   },
   "outputs": [
    {
     "name": "stderr",
     "output_type": "stream",
     "text": [
      "C:\\Program Files\\Anaconda2\\envs\\python3\\lib\\site-packages\\ipykernel\\__main__.py:1: UserWarning: Boolean Series key will be reindexed to match DataFrame index.\n",
      "  if __name__ == '__main__':\n"
     ]
    }
   ],
   "source": [
    "df[\"n_sowiport_id\"]=df[~df[\"sowiport_id\"].isnull()][~df[\"sowi_IdDuplicates\"].isnull()][\"sowiport_id\"]+df[~df[\"sowiport_id\"].isnull()][~df[\"sowi_IdDuplicates\"].isnull()][\"sowi_IdDuplicates\"]"
   ]
  },
  {
   "cell_type": "code",
   "execution_count": 18,
   "metadata": {
    "collapsed": false
   },
   "outputs": [],
   "source": [
    "df.loc[~df[\"n_sowiport_id\"].isnull(),\"sowiport_id\"]=df[~df.n_sowiport_id.isnull()][\"n_sowiport_id\"]"
   ]
  },
  {
   "cell_type": "code",
   "execution_count": 19,
   "metadata": {
    "collapsed": false
   },
   "outputs": [],
   "source": [
    "df=df[[\"new_id\",\"ref_id\",\"sowiport_id\",\"ssoar_id\",\"ref_text\"]]"
   ]
  },
  {
   "cell_type": "code",
   "execution_count": 20,
   "metadata": {
    "collapsed": false
   },
   "outputs": [],
   "source": [
    "df.ssoar_id=df.ssoar_id.apply(int).apply(str)"
   ]
  },
  {
   "cell_type": "code",
   "execution_count": 21,
   "metadata": {
    "collapsed": false
   },
   "outputs": [
    {
     "data": {
      "text/html": [
       "<div>\n",
       "<table border=\"1\" class=\"dataframe\">\n",
       "  <thead>\n",
       "    <tr style=\"text-align: right;\">\n",
       "      <th></th>\n",
       "      <th>new_id</th>\n",
       "      <th>ref_id</th>\n",
       "      <th>sowiport_id</th>\n",
       "      <th>ssoar_id</th>\n",
       "      <th>ref_text</th>\n",
       "    </tr>\n",
       "  </thead>\n",
       "  <tbody>\n",
       "    <tr>\n",
       "      <th>0</th>\n",
       "      <td>f1_831418</td>\n",
       "      <td>831418</td>\n",
       "      <td>[wzb-bib-85047, gesis-solis-00135926,  bszbw-w...</td>\n",
       "      <td>10037</td>\n",
       "      <td>Bosch, G.: Qualifizieren statt entlassen - Bes...</td>\n",
       "    </tr>\n",
       "    <tr>\n",
       "      <th>1</th>\n",
       "      <td>f1_1064777</td>\n",
       "      <td>1064777</td>\n",
       "      <td>[gesis-solis-00360757, iab-litdok-K060329801, ...</td>\n",
       "      <td>31981</td>\n",
       "      <td>Stahlmann, Günther (2006): 1 - Euro - Jobs zwi...</td>\n",
       "    </tr>\n",
       "  </tbody>\n",
       "</table>\n",
       "</div>"
      ],
      "text/plain": [
       "       new_id   ref_id                                        sowiport_id  \\\n",
       "0   f1_831418   831418  [wzb-bib-85047, gesis-solis-00135926,  bszbw-w...   \n",
       "1  f1_1064777  1064777  [gesis-solis-00360757, iab-litdok-K060329801, ...   \n",
       "\n",
       "  ssoar_id                                           ref_text  \n",
       "0    10037  Bosch, G.: Qualifizieren statt entlassen - Bes...  \n",
       "1    31981  Stahlmann, Günther (2006): 1 - Euro - Jobs zwi...  "
      ]
     },
     "execution_count": 21,
     "metadata": {},
     "output_type": "execute_result"
    }
   ],
   "source": [
    "df.head(2)"
   ]
  },
  {
   "cell_type": "code",
   "execution_count": 22,
   "metadata": {
    "collapsed": false
   },
   "outputs": [
    {
     "data": {
      "text/plain": [
       "602"
      ]
     },
     "execution_count": 22,
     "metadata": {},
     "output_type": "execute_result"
    }
   ],
   "source": [
    "len(df)"
   ]
  },
  {
   "cell_type": "markdown",
   "metadata": {},
   "source": [
    "# ========================================="
   ]
  },
  {
   "cell_type": "code",
   "execution_count": 23,
   "metadata": {
    "collapsed": true
   },
   "outputs": [],
   "source": [
    "df1=pd.read_csv(\"Final_matching_gold_standard2.csv\", sep=\";\", encoding=\"utf-8\")"
   ]
  },
  {
   "cell_type": "code",
   "execution_count": 24,
   "metadata": {
    "collapsed": false
   },
   "outputs": [
    {
     "data": {
      "text/html": [
       "<div>\n",
       "<table border=\"1\" class=\"dataframe\">\n",
       "  <thead>\n",
       "    <tr style=\"text-align: right;\">\n",
       "      <th></th>\n",
       "      <th>﻿</th>\n",
       "      <th>0</th>\n",
       "      <th>1</th>\n",
       "      <th>Match id</th>\n",
       "      <th>Authors</th>\n",
       "      <th>year</th>\n",
       "      <th>title</th>\n",
       "      <th>list_of_dublication</th>\n",
       "      <th>F_D</th>\n",
       "      <th>comment</th>\n",
       "    </tr>\n",
       "  </thead>\n",
       "  <tbody>\n",
       "    <tr>\n",
       "      <th>0</th>\n",
       "      <td>1279</td>\n",
       "      <td>R:/PROJECTS/EXCITE.DFG/SHK_Report/Goldstandard...</td>\n",
       "      <td>Volmerg, B. (1988). Erkenntnistheoretische Gru...</td>\n",
       "      <td>null</td>\n",
       "      <td>Volmerg, B.</td>\n",
       "      <td>1988</td>\n",
       "      <td>Erkenntnistheoretische Grundsätze interpretati...</td>\n",
       "      <td>null</td>\n",
       "      <td>NaN</td>\n",
       "      <td>NaN</td>\n",
       "    </tr>\n",
       "    <tr>\n",
       "      <th>1</th>\n",
       "      <td>291</td>\n",
       "      <td>R:/PROJECTS/EXCITE.DFG/SHK_Report/Goldstandard...</td>\n",
       "      <td>Lewis, Matthew. 2008. “Price Dispersion and Co...</td>\n",
       "      <td>null</td>\n",
       "      <td>Lewis, Matthew</td>\n",
       "      <td>2008</td>\n",
       "      <td>Price Dispersion and Competition with Differen...</td>\n",
       "      <td>null</td>\n",
       "      <td>NaN</td>\n",
       "      <td>NaN</td>\n",
       "    </tr>\n",
       "  </tbody>\n",
       "</table>\n",
       "</div>"
      ],
      "text/plain": [
       "      ﻿                                                  0  \\\n",
       "0  1279  R:/PROJECTS/EXCITE.DFG/SHK_Report/Goldstandard...   \n",
       "1   291  R:/PROJECTS/EXCITE.DFG/SHK_Report/Goldstandard...   \n",
       "\n",
       "                                                   1 Match id         Authors  \\\n",
       "0  Volmerg, B. (1988). Erkenntnistheoretische Gru...     null     Volmerg, B.   \n",
       "1  Lewis, Matthew. 2008. “Price Dispersion and Co...     null  Lewis, Matthew   \n",
       "\n",
       "   year                                              title  \\\n",
       "0  1988  Erkenntnistheoretische Grundsätze interpretati...   \n",
       "1  2008  Price Dispersion and Competition with Differen...   \n",
       "\n",
       "  list_of_dublication  F_D comment  \n",
       "0                null  NaN     NaN  \n",
       "1                null  NaN     NaN  "
      ]
     },
     "execution_count": 24,
     "metadata": {},
     "output_type": "execute_result"
    }
   ],
   "source": [
    "df1.head(2)"
   ]
  },
  {
   "cell_type": "code",
   "execution_count": 25,
   "metadata": {
    "collapsed": false
   },
   "outputs": [],
   "source": [
    "match_df1=df1[~df1[\"Match id\"].isnull()]"
   ]
  },
  {
   "cell_type": "code",
   "execution_count": 26,
   "metadata": {
    "collapsed": false
   },
   "outputs": [],
   "source": [
    "match_df1.columns=['Oldindex', '0', '1', 'Match id', 'Authors', 'year', 'title',\n",
    "       'list_of_dublication', 'F_D', 'comment']"
   ]
  },
  {
   "cell_type": "code",
   "execution_count": 27,
   "metadata": {
    "collapsed": false
   },
   "outputs": [],
   "source": [
    "match_df1=match_df1[[\"Oldindex\", '0', '1', 'Match id','list_of_dublication']]"
   ]
  },
  {
   "cell_type": "code",
   "execution_count": 28,
   "metadata": {
    "collapsed": false
   },
   "outputs": [],
   "source": [
    "match_df1.columns=[[\"ref_id\",\"sourcefile\",\"ref_text\",\"sowi_id\", \"dublicates\"]]"
   ]
  },
  {
   "cell_type": "code",
   "execution_count": 29,
   "metadata": {
    "collapsed": false
   },
   "outputs": [],
   "source": [
    "match_df1[\"new_id\"]=\"f2_\"+match_df1[\"ref_id\"].apply(str)"
   ]
  },
  {
   "cell_type": "code",
   "execution_count": 30,
   "metadata": {
    "collapsed": false
   },
   "outputs": [],
   "source": [
    "match_df1=match_df1[[\"new_id\",\"ref_id\",\"sourcefile\",\"ref_text\",\"sowi_id\", \"dublicates\"]]"
   ]
  },
  {
   "cell_type": "code",
   "execution_count": 31,
   "metadata": {
    "collapsed": false
   },
   "outputs": [],
   "source": [
    "match_df1[\"sourcefile1\"]=match_df1[\"sourcefile\"].apply(lambda x: x.split(\"\\\\\")[-1])"
   ]
  },
  {
   "cell_type": "code",
   "execution_count": 32,
   "metadata": {
    "collapsed": false
   },
   "outputs": [
    {
     "data": {
      "text/html": [
       "<div>\n",
       "<table border=\"1\" class=\"dataframe\">\n",
       "  <thead>\n",
       "    <tr style=\"text-align: right;\">\n",
       "      <th></th>\n",
       "      <th>new_id</th>\n",
       "      <th>ref_id</th>\n",
       "      <th>sourcefile</th>\n",
       "      <th>ref_text</th>\n",
       "      <th>sowi_id</th>\n",
       "      <th>dublicates</th>\n",
       "      <th>sourcefile1</th>\n",
       "    </tr>\n",
       "  </thead>\n",
       "  <tbody>\n",
       "    <tr>\n",
       "      <th>0</th>\n",
       "      <td>f2_1279</td>\n",
       "      <td>1279</td>\n",
       "      <td>R:/PROJECTS/EXCITE.DFG/SHK_Report/Goldstandard...</td>\n",
       "      <td>Volmerg, B. (1988). Erkenntnistheoretische Gru...</td>\n",
       "      <td>null</td>\n",
       "      <td>null</td>\n",
       "      <td>120.txt</td>\n",
       "    </tr>\n",
       "  </tbody>\n",
       "</table>\n",
       "</div>"
      ],
      "text/plain": [
       "    new_id  ref_id                                         sourcefile  \\\n",
       "0  f2_1279    1279  R:/PROJECTS/EXCITE.DFG/SHK_Report/Goldstandard...   \n",
       "\n",
       "                                            ref_text sowi_id dublicates  \\\n",
       "0  Volmerg, B. (1988). Erkenntnistheoretische Gru...    null       null   \n",
       "\n",
       "  sourcefile1  \n",
       "0     120.txt  "
      ]
     },
     "execution_count": 32,
     "metadata": {},
     "output_type": "execute_result"
    }
   ],
   "source": [
    "match_df1.head(1)"
   ]
  },
  {
   "cell_type": "code",
   "execution_count": 33,
   "metadata": {
    "collapsed": false
   },
   "outputs": [],
   "source": [
    "match_df1=match_df1[[\"new_id\",\"ref_id\",\"sowi_id\",\"dublicates\",\"sourcefile\",\"ref_text\"]]"
   ]
  },
  {
   "cell_type": "code",
   "execution_count": 34,
   "metadata": {
    "collapsed": false
   },
   "outputs": [
    {
     "data": {
      "text/html": [
       "<div>\n",
       "<table border=\"1\" class=\"dataframe\">\n",
       "  <thead>\n",
       "    <tr style=\"text-align: right;\">\n",
       "      <th></th>\n",
       "      <th>new_id</th>\n",
       "      <th>ref_id</th>\n",
       "      <th>sowi_id</th>\n",
       "      <th>dublicates</th>\n",
       "      <th>sourcefile</th>\n",
       "      <th>ref_text</th>\n",
       "    </tr>\n",
       "  </thead>\n",
       "  <tbody>\n",
       "    <tr>\n",
       "      <th>2</th>\n",
       "      <td>f2_980</td>\n",
       "      <td>980</td>\n",
       "      <td>bszbw-wao-330016598</td>\n",
       "      <td>[u'bszbw-wao-390397377', u'csa-pais-2004-10023...</td>\n",
       "      <td>R:/PROJECTS/EXCITE.DFG/SHK_Report/Goldstandard...</td>\n",
       "      <td>Sawyer, Susana 2004 Crude Chronicles: Indigeno...</td>\n",
       "    </tr>\n",
       "    <tr>\n",
       "      <th>4</th>\n",
       "      <td>f2_205</td>\n",
       "      <td>205</td>\n",
       "      <td>fes-bib-16913</td>\n",
       "      <td>['fes-bib-16913']</td>\n",
       "      <td>R:/PROJECTS/EXCITE.DFG/SHK_Report/Goldstandard...</td>\n",
       "      <td>Emery, F. E., Thorsrud, E., &amp; Trist, E. (1969)...</td>\n",
       "    </tr>\n",
       "  </tbody>\n",
       "</table>\n",
       "</div>"
      ],
      "text/plain": [
       "   new_id  ref_id              sowi_id  \\\n",
       "2  f2_980     980  bszbw-wao-330016598   \n",
       "4  f2_205     205        fes-bib-16913   \n",
       "\n",
       "                                          dublicates  \\\n",
       "2  [u'bszbw-wao-390397377', u'csa-pais-2004-10023...   \n",
       "4                                  ['fes-bib-16913']   \n",
       "\n",
       "                                          sourcefile  \\\n",
       "2  R:/PROJECTS/EXCITE.DFG/SHK_Report/Goldstandard...   \n",
       "4  R:/PROJECTS/EXCITE.DFG/SHK_Report/Goldstandard...   \n",
       "\n",
       "                                            ref_text  \n",
       "2  Sawyer, Susana 2004 Crude Chronicles: Indigeno...  \n",
       "4  Emery, F. E., Thorsrud, E., & Trist, E. (1969)...  "
      ]
     },
     "execution_count": 34,
     "metadata": {},
     "output_type": "execute_result"
    }
   ],
   "source": [
    "match_df1[match_df1[\"sowi_id\"]!=\"null\"].head(2)"
   ]
  },
  {
   "cell_type": "code",
   "execution_count": 35,
   "metadata": {
    "collapsed": false
   },
   "outputs": [],
   "source": [
    "match_df1[\"dublicates\"]=match_df1[\"dublicates\"].apply(null_or_listdublicat_eval)"
   ]
  },
  {
   "cell_type": "code",
   "execution_count": 36,
   "metadata": {
    "collapsed": false
   },
   "outputs": [],
   "source": [
    "tempdf=match_df1[match_df1[\"sowi_id\"]!=\"null\"][\"sowi_id\"].apply(lambda x:[x])"
   ]
  },
  {
   "cell_type": "code",
   "execution_count": 37,
   "metadata": {
    "collapsed": false
   },
   "outputs": [],
   "source": [
    "match_df1[\"sowi_id\"]=tempdf"
   ]
  },
  {
   "cell_type": "code",
   "execution_count": 38,
   "metadata": {
    "collapsed": false
   },
   "outputs": [],
   "source": [
    "match_df1[\"sowi_id\"]=match_df1[\"sowi_id\"]+match_df1[\"dublicates\"]"
   ]
  },
  {
   "cell_type": "code",
   "execution_count": 39,
   "metadata": {
    "collapsed": false
   },
   "outputs": [],
   "source": [
    "match_df1[\"sowi_id\"]=match_df1[~match_df1[\"sowi_id\"].isnull()][\"sowi_id\"].apply(set).apply(list)"
   ]
  },
  {
   "cell_type": "code",
   "execution_count": 40,
   "metadata": {
    "collapsed": false
   },
   "outputs": [],
   "source": [
    "match_df1=match_df1[[\"new_id\",\"ref_id\",\"sowi_id\",\"sourcefile\",\"ref_text\"]]"
   ]
  },
  {
   "cell_type": "code",
   "execution_count": 41,
   "metadata": {
    "collapsed": false
   },
   "outputs": [
    {
     "data": {
      "text/html": [
       "<div>\n",
       "<table border=\"1\" class=\"dataframe\">\n",
       "  <thead>\n",
       "    <tr style=\"text-align: right;\">\n",
       "      <th></th>\n",
       "      <th>new_id</th>\n",
       "      <th>ref_id</th>\n",
       "      <th>sowi_id</th>\n",
       "      <th>sourcefile</th>\n",
       "      <th>ref_text</th>\n",
       "    </tr>\n",
       "  </thead>\n",
       "  <tbody>\n",
       "    <tr>\n",
       "      <th>0</th>\n",
       "      <td>f2_1279</td>\n",
       "      <td>1279</td>\n",
       "      <td>NaN</td>\n",
       "      <td>R:/PROJECTS/EXCITE.DFG/SHK_Report/Goldstandard...</td>\n",
       "      <td>Volmerg, B. (1988). Erkenntnistheoretische Gru...</td>\n",
       "    </tr>\n",
       "  </tbody>\n",
       "</table>\n",
       "</div>"
      ],
      "text/plain": [
       "    new_id  ref_id sowi_id                                         sourcefile  \\\n",
       "0  f2_1279    1279     NaN  R:/PROJECTS/EXCITE.DFG/SHK_Report/Goldstandard...   \n",
       "\n",
       "                                            ref_text  \n",
       "0  Volmerg, B. (1988). Erkenntnistheoretische Gru...  "
      ]
     },
     "execution_count": 41,
     "metadata": {},
     "output_type": "execute_result"
    }
   ],
   "source": [
    "match_df1.head(1)"
   ]
  },
  {
   "cell_type": "code",
   "execution_count": 42,
   "metadata": {
    "collapsed": true
   },
   "outputs": [],
   "source": [
    "match_df1.columns=[\"new_id\",\"ref_id\",\"sowi_id\",\"sourcefile\",\"ref_text\"]"
   ]
  },
  {
   "cell_type": "code",
   "execution_count": 43,
   "metadata": {
    "collapsed": false
   },
   "outputs": [
    {
     "data": {
      "text/plain": [
       "230"
      ]
     },
     "execution_count": 43,
     "metadata": {},
     "output_type": "execute_result"
    }
   ],
   "source": [
    "len(match_df1)"
   ]
  },
  {
   "cell_type": "code",
   "execution_count": 44,
   "metadata": {
    "collapsed": false
   },
   "outputs": [
    {
     "data": {
      "text/html": [
       "<div>\n",
       "<table border=\"1\" class=\"dataframe\">\n",
       "  <thead>\n",
       "    <tr style=\"text-align: right;\">\n",
       "      <th></th>\n",
       "      <th>new_id</th>\n",
       "      <th>ref_id</th>\n",
       "      <th>sowiport_id</th>\n",
       "      <th>ssoar_id</th>\n",
       "      <th>ref_text</th>\n",
       "    </tr>\n",
       "  </thead>\n",
       "  <tbody>\n",
       "    <tr>\n",
       "      <th>0</th>\n",
       "      <td>f1_831418</td>\n",
       "      <td>831418</td>\n",
       "      <td>[wzb-bib-85047, gesis-solis-00135926,  bszbw-w...</td>\n",
       "      <td>10037</td>\n",
       "      <td>Bosch, G.: Qualifizieren statt entlassen - Bes...</td>\n",
       "    </tr>\n",
       "  </tbody>\n",
       "</table>\n",
       "</div>"
      ],
      "text/plain": [
       "      new_id  ref_id                                        sowiport_id  \\\n",
       "0  f1_831418  831418  [wzb-bib-85047, gesis-solis-00135926,  bszbw-w...   \n",
       "\n",
       "  ssoar_id                                           ref_text  \n",
       "0    10037  Bosch, G.: Qualifizieren statt entlassen - Bes...  "
      ]
     },
     "execution_count": 44,
     "metadata": {},
     "output_type": "execute_result"
    }
   ],
   "source": [
    "df.head(1)"
   ]
  },
  {
   "cell_type": "code",
   "execution_count": 45,
   "metadata": {
    "collapsed": true
   },
   "outputs": [],
   "source": [
    "df.columns=[\"new_id\",\"ref_id\",\"sowi_id\",\"sourcefile\",\"ref_text\"]"
   ]
  },
  {
   "cell_type": "code",
   "execution_count": 46,
   "metadata": {
    "collapsed": false
   },
   "outputs": [
    {
     "data": {
      "text/plain": [
       "602"
      ]
     },
     "execution_count": 46,
     "metadata": {},
     "output_type": "execute_result"
    }
   ],
   "source": [
    "len(df)"
   ]
  },
  {
   "cell_type": "code",
   "execution_count": 74,
   "metadata": {
    "collapsed": true
   },
   "outputs": [],
   "source": [
    "frames = [df,match_df1]\n",
    "resultrefex = pd.concat(frames)"
   ]
  },
  {
   "cell_type": "code",
   "execution_count": 75,
   "metadata": {
    "collapsed": false
   },
   "outputs": [
    {
     "data": {
      "text/plain": [
       "832"
      ]
     },
     "execution_count": 75,
     "metadata": {},
     "output_type": "execute_result"
    }
   ],
   "source": [
    "len(resultrefex)"
   ]
  },
  {
   "cell_type": "code",
   "execution_count": 76,
   "metadata": {
    "collapsed": false
   },
   "outputs": [
    {
     "data": {
      "text/plain": [
       "832"
      ]
     },
     "execution_count": 76,
     "metadata": {},
     "output_type": "execute_result"
    }
   ],
   "source": [
    "len(Process_data)"
   ]
  },
  {
   "cell_type": "code",
   "execution_count": 77,
   "metadata": {
    "collapsed": false
   },
   "outputs": [
    {
     "data": {
      "text/html": [
       "<div>\n",
       "<table border=\"1\" class=\"dataframe\">\n",
       "  <thead>\n",
       "    <tr style=\"text-align: right;\">\n",
       "      <th></th>\n",
       "      <th>new_id</th>\n",
       "      <th>ref_id</th>\n",
       "      <th>sowi_id</th>\n",
       "      <th>sourcefile</th>\n",
       "      <th>ref_text</th>\n",
       "    </tr>\n",
       "  </thead>\n",
       "  <tbody>\n",
       "    <tr>\n",
       "      <th>0</th>\n",
       "      <td>f1_831418</td>\n",
       "      <td>831418</td>\n",
       "      <td>[wzb-bib-85047, gesis-solis-00135926,  bszbw-w...</td>\n",
       "      <td>10037</td>\n",
       "      <td>Bosch, G.: Qualifizieren statt entlassen - Bes...</td>\n",
       "    </tr>\n",
       "  </tbody>\n",
       "</table>\n",
       "</div>"
      ],
      "text/plain": [
       "      new_id  ref_id                                            sowi_id  \\\n",
       "0  f1_831418  831418  [wzb-bib-85047, gesis-solis-00135926,  bszbw-w...   \n",
       "\n",
       "  sourcefile                                           ref_text  \n",
       "0      10037  Bosch, G.: Qualifizieren statt entlassen - Bes...  "
      ]
     },
     "execution_count": 77,
     "metadata": {},
     "output_type": "execute_result"
    }
   ],
   "source": [
    "resultrefex.head(1)"
   ]
  },
  {
   "cell_type": "code",
   "execution_count": 78,
   "metadata": {
    "collapsed": false
   },
   "outputs": [
    {
     "data": {
      "text/html": [
       "<div>\n",
       "<table border=\"1\" class=\"dataframe\">\n",
       "  <thead>\n",
       "    <tr style=\"text-align: right;\">\n",
       "      <th></th>\n",
       "      <th>new_id</th>\n",
       "      <th>ref_text</th>\n",
       "      <th>ref_seg</th>\n",
       "      <th>ref_seg_dic</th>\n",
       "    </tr>\n",
       "  </thead>\n",
       "  <tbody>\n",
       "    <tr>\n",
       "      <th>0</th>\n",
       "      <td>f1_831418</td>\n",
       "      <td>Bosch, G.: Qualifizieren statt entlassen - Bes...</td>\n",
       "      <td>&lt;author&gt;&lt;surname prob=\"0.9656\"&gt;Bosch&lt;/surname&gt;...</td>\n",
       "      <td>{\"author\": [[{\"score\": \"0.9656\", \"surname\": \"B...</td>\n",
       "    </tr>\n",
       "  </tbody>\n",
       "</table>\n",
       "</div>"
      ],
      "text/plain": [
       "      new_id                                           ref_text  \\\n",
       "0  f1_831418  Bosch, G.: Qualifizieren statt entlassen - Bes...   \n",
       "\n",
       "                                             ref_seg  \\\n",
       "0  <author><surname prob=\"0.9656\">Bosch</surname>...   \n",
       "\n",
       "                                         ref_seg_dic  \n",
       "0  {\"author\": [[{\"score\": \"0.9656\", \"surname\": \"B...  "
      ]
     },
     "execution_count": 78,
     "metadata": {},
     "output_type": "execute_result"
    }
   ],
   "source": [
    "Process_data.head(1)"
   ]
  },
  {
   "cell_type": "code",
   "execution_count": 79,
   "metadata": {
    "collapsed": true
   },
   "outputs": [],
   "source": [
    "Process_data.columns=[\"new_id\",\"ref_text\",\"ref_seg\",\"ref_seg_dic\"]"
   ]
  },
  {
   "cell_type": "code",
   "execution_count": 105,
   "metadata": {
    "collapsed": true
   },
   "outputs": [],
   "source": [
    "resultrefex.drop_duplicates(subset=['new_id'], keep=\"first\", inplace=True)\n",
    "Process_data.drop_duplicates(subset=['new_id'], keep=\"first\", inplace=True)"
   ]
  },
  {
   "cell_type": "code",
   "execution_count": 106,
   "metadata": {
    "collapsed": false
   },
   "outputs": [
    {
     "data": {
      "text/plain": [
       "817"
      ]
     },
     "execution_count": 106,
     "metadata": {},
     "output_type": "execute_result"
    }
   ],
   "source": [
    "len(resultrefex)"
   ]
  },
  {
   "cell_type": "code",
   "execution_count": 107,
   "metadata": {
    "collapsed": false
   },
   "outputs": [
    {
     "data": {
      "text/plain": [
       "817"
      ]
     },
     "execution_count": 107,
     "metadata": {},
     "output_type": "execute_result"
    }
   ],
   "source": [
    "len(Process_data)"
   ]
  },
  {
   "cell_type": "code",
   "execution_count": 108,
   "metadata": {
    "collapsed": false
   },
   "outputs": [],
   "source": [
    "resultmerged = pd.merge(resultrefex, Process_data,how='right', on=[\"new_id\"])"
   ]
  },
  {
   "cell_type": "code",
   "execution_count": 109,
   "metadata": {
    "collapsed": false
   },
   "outputs": [
    {
     "data": {
      "text/plain": [
       "817"
      ]
     },
     "execution_count": 109,
     "metadata": {},
     "output_type": "execute_result"
    }
   ],
   "source": [
    "len(resultmerged)"
   ]
  },
  {
   "cell_type": "code",
   "execution_count": 110,
   "metadata": {
    "collapsed": false
   },
   "outputs": [
    {
     "data": {
      "text/plain": [
       "817"
      ]
     },
     "execution_count": 110,
     "metadata": {},
     "output_type": "execute_result"
    }
   ],
   "source": [
    "len(set(resultmerged[\"new_id\"]))"
   ]
  },
  {
   "cell_type": "code",
   "execution_count": null,
   "metadata": {
    "collapsed": true
   },
   "outputs": [],
   "source": [
    "resultmerged.to_csv(\"Final_prepared_data_for_matching.csv\", index=False, encoding='utf-8')"
   ]
  }
 ],
 "metadata": {
  "anaconda-cloud": {},
  "kernelspec": {
   "display_name": "Python 3",
   "language": "python",
   "name": "python3"
  },
  "language_info": {
   "codemirror_mode": {
    "name": "ipython",
    "version": 3
   },
   "file_extension": ".py",
   "mimetype": "text/x-python",
   "name": "python",
   "nbconvert_exporter": "python",
   "pygments_lexer": "ipython3",
   "version": "3.5.2"
  }
 },
 "nbformat": 4,
 "nbformat_minor": 1
}
